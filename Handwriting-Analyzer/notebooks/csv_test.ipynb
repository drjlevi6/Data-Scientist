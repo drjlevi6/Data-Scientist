{
 "cells": [
  {
   "cell_type": "markdown",
   "id": "2e1c1bfa",
   "metadata": {},
   "source": [
    "### Display a .csv file representing an image\n",
    "The CSV file format can be used to store data of many\n",
    "kinds. One use is to store information about an image's pixels.\n",
    "This is particularly useful if the image is grayscale. The \n",
    "image can then be displayed:"
   ]
  },
  {
   "cell_type": "code",
   "execution_count": 18,
   "id": "370e8eed",
   "metadata": {},
   "outputs": [],
   "source": [
    "import numpy as np\n",
    "import matplotlib.pyplot as plt"
   ]
  },
  {
   "cell_type": "code",
   "execution_count": 19,
   "id": "79fb8fe3",
   "metadata": {},
   "outputs": [
    {
     "data": {
      "text/plain": [
       "array([[ 84, 171, 255],\n",
       "       [171, 255,  84]])"
      ]
     },
     "execution_count": 19,
     "metadata": {},
     "output_type": "execute_result"
    }
   ],
   "source": [
    "filepath = \"tiny-grayscale.csv\"\n",
    "\n",
    "# Following could also be done using floats\n",
    "ar = np.loadtxt(filepath,dtype='int', delimiter=',')\n",
    "\n",
    "# np.loadtext() raises ValueError if csv file row\n",
    "# lengths are unequal or a cell has invalid content\n",
    "\n",
    "assert sum([(0 <= ar[i][j] <= 255) \n",
    "    for j in range(len(ar[0])) for i in range(len(ar))]) \\\n",
    "    == len(ar) * len(ar[0]), \\\n",
    "    \"CSV file contains out-of-range numeric input\"\n",
    "ar"
   ]
  },
  {
   "cell_type": "code",
   "execution_count": 20,
   "id": "14003cc2",
   "metadata": {},
   "outputs": [
    {
     "data": {
      "image/png": "[encoded data removed]",
      "text/plain": [
       "<Figure size 500x500 with 1 Axes>"
      ]
     },
     "metadata": {},
     "output_type": "display_data"
    }
   ],
   "source": [
    "plt.figure(figsize=(5,5))\n",
    "plt.imshow(ar, cmap ='gray')\n",
    "plt.show()"
   ]
  },
  {
   "cell_type": "code",
   "execution_count": null,
   "id": "d23169bc",
   "metadata": {},
   "outputs": [],
   "source": []
  }
 ],
 "metadata": {
  "kernelspec": {
   "display_name": "Python 3 (ipykernel)",
   "language": "python",
   "name": "python3"
  },
  "language_info": {
   "codemirror_mode": {
    "name": "ipython",
    "version": 3
   },
   "file_extension": ".py",
   "mimetype": "text/x-python",
   "name": "python",
   "nbconvert_exporter": "python",
   "pygments_lexer": "ipython3",
   "version": "3.9.16"
  }
 },
 "nbformat": 4,
 "nbformat_minor": 5
}
