{
 "cells": [
  {
   "cell_type": "code",
   "execution_count": 25,
   "id": "c50d99a9",
   "metadata": {},
   "outputs": [],
   "source": [
    "'''Convert glucose levels from a screenshot to a comma-delimited string'''\n",
    "'''\n",
    "Convert the glucose levels to a comma-delimited string (adding  \n",
    "screenshot's date) of integers to be incorporated into a CSV-formatted \n",
    "dataset, etc.\n",
    "'''\n",
    "None"
   ]
  },
  {
   "cell_type": "code",
   "execution_count": 26,
   "id": "a1ad53ee-ecd0-451a-b18f-44c6d999bdad",
   "metadata": {},
   "outputs": [],
   "source": [
    "import os, re, sys\n",
    "import pandas as pd\n",
    "from pandas import DataFrame as DF, Series as Ser\n",
    "import numpy as np\n",
    "from matplotlib import pyplot as plt"
   ]
  },
  {
   "cell_type": "code",
   "execution_count": 27,
   "id": "b5ccf9af-08dd-49ae-bcb9-98bf12d245a9",
   "metadata": {},
   "outputs": [
    {
     "name": "stderr",
     "output_type": "stream",
     "text": [
      "Enter full or relative path of image to be analyzed:\n"
     ]
    },
    {
     "name": "stdin",
     "output_type": "stream",
     "text": [
      " ./images/processed/20240328-IMG_1830.PNG\n"
     ]
    }
   ],
   "source": [
    "def get_image_path():\n",
    "    '''Get path from user of image to be analyzed for glucose levels'''\n",
    "    if len(sys.argv) == 2:  # using command line, user supplied path\n",
    "        print(sys.argv[0] + \": Using file\",sys.argv[1], file=sys.stderr)\n",
    "        return sys.argv[1]\n",
    "    elif len(sys.argv) > 2: # using notebook; prompt user for path\n",
    "        print(\"Enter full or relative path of image to be analyzed:\", file=sys.stderr)\n",
    "        return input()\n",
    "    else:                   # length == 1; command line w/o user-supplied path\n",
    "        print(sys.argv[0] + \": Error:\",\n",
    "            \"You must supply the path of the image file to be processed.\",\n",
    "            file=sys.stderr)\n",
    "        quit()\n",
    "#    return \"./images/20240520-IMG_1973.PNG\"\n",
    "png_path = get_image_path()"
   ]
  },
  {
   "cell_type": "code",
   "execution_count": 28,
   "id": "23f2f083-f195-4e1e-9a1a-028475d14f5e",
   "metadata": {},
   "outputs": [],
   "source": [
    "# Read the screenshot showing the monitor's glucose curve\n",
    "from PIL import Image\n",
    "\n",
    "png = np.asarray(Image.open(png_path))\n",
    "csv_df = DF(png[:, :, 0])\n",
    "csv_cropped = csv_df.iloc[508:1485, 88:748] # shape: (1015, 660)"
   ]
  },
  {
   "cell_type": "code",
   "execution_count": 29,
   "id": "e5a1f691-cf03-4e7c-994e-913483817b1e",
   "metadata": {},
   "outputs": [],
   "source": [
    "import numpy as np\n",
    "\n",
    "# column_zeros_means is the mean height,in pixels, and for each \n",
    "# column, of the thick black line comprising the screenshot's graph.\n",
    "\n",
    "shape0 = csv_cropped.shape[0]\n",
    "column_zeros_means = Ser([])\n",
    "\n",
    "for j_col in range(660):\n",
    "    try:\n",
    "        col_zeros = Ser([\n",
    "            (i if csv_cropped.iloc[i,j_col] == 0 else np.nan)\\\n",
    "            for i in range(shape0)])\n",
    "        column_zeros_means[j_col+1] = col_zeros.mean()\n",
    "    except Exception:\n",
    "        column_zeros_means[j_col+1] = np.nan\n",
    "        \n",
    "# get rid of nans\n",
    "column_zeros_means.interpolate(inplace=True)\n",
    "\n",
    "# Scale the column means from pixels to mg/Dl\n",
    "mg_per_dl = (-0.34324 * column_zeros_means + 350).astype(int, errors='ignore')"
   ]
  },
  {
   "cell_type": "code",
   "execution_count": 30,
   "id": "2807fcc1-563a-409a-82fe-c5f77472ef41",
   "metadata": {
    "lines_to_next_cell": 1
   },
   "outputs": [
    {
     "name": "stderr",
     "output_type": "stream",
     "text": [
      "<>:13: SyntaxWarning: invalid escape sequence '\\w'\n",
      "<>:13: SyntaxWarning: invalid escape sequence '\\w'\n",
      "/var/folders/y9/5rbtlk9d4p50p3nbvbhg4p7r0000gp/T/ipykernel_8610/4219994719.py:13: SyntaxWarning: invalid escape sequence '\\w'\n",
      "  m = re.search(\"(\\w+) (\\d+),\\ *(\\d{4})\", date_text_raw)\n"
     ]
    }
   ],
   "source": [
    "# Get date from screenshot; convert to string yyyymmdd\n",
    "def get_screenshot_date(png_path):\n",
    "    '''Extract, convert line containing date from screenshot text'''\n",
    "    \n",
    "    from pandas.io.clipboard import clipboard_get\n",
    "    os.system(\"tesseract \" + png_path + \n",
    "        \" stdout --dpi 72 | sed -nE '/^<.*>$/p' | pbcopy\")\n",
    "    date_text_raw = clipboard_get()\n",
    "    # convert date to eight-digit string\n",
    "    months = [\"January\", \"February\", \"March\", \"April\",\n",
    "              \"May\", \"June\", \"July\", \"August\",\n",
    "              \"September\", \"October\",\"November\", \"December\"]\n",
    "    m = re.search(\"(\\w+) (\\d+),\\ *(\\d{4})\", date_text_raw)\n",
    "    month, day, year = m.group(1), int(m.group(2)), m.group(3)\n",
    "    return f\"{year:4s}{months.index(month)+1:02d}{day:02d}\""
   ]
  },
  {
   "cell_type": "code",
   "execution_count": 31,
   "id": "497b6b3b-a1eb-40ff-942a-e12081b9c63a",
   "metadata": {},
   "outputs": [],
   "source": [
    "comma_delimited = ','.join(np.char.mod('%d', mg_per_dl))"
   ]
  },
  {
   "cell_type": "code",
   "execution_count": 32,
   "id": "3b5d4fb0-c661-4706-9eec-9b494246d9d0",
   "metadata": {},
   "outputs": [],
   "source": [
    "# Prepend the date\n",
    "comma_delimited = get_screenshot_date(png_path) + ',' + comma_delimited"
   ]
  },
  {
   "cell_type": "code",
   "execution_count": 33,
   "id": "9d42ecef-4e31-4db0-86de-8b5c706aeba5",
   "metadata": {},
   "outputs": [
    {
     "name": "stdout",
     "output_type": "stream",
     "text": [
      "20240328,128,128,129,130,131,131,131,131,131,131,131,130,130,128,127,127,126,125,125,123,122,122,122,123,122,122,122,122,122,123,123,112,112,123,122,122,122,122,121,121,120,119,118,118,119,119,119,120,120,120,120,119,120,120,120,121,120,120,119,119,118,118,118,118,119,119,119,120,120,121,121,122,123,124,125,124,124,124,124,125,125,125,126,126,126,125,125,125,125,125,125,125,125,125,124,124,123,123,123,123,122,122,122,122,122,123,123,124,123,123,123,123,122,122,122,122,122,122,122,122,121,120,120,121,121,121,121,121,121,121,121,121,121,121,121,121,121,122,122,123,123,123,123,123,122,121,119,118,118,117,117,117,115,114,113,112,112,112,113,113,114,115,117,118,119,120,121,122,123,125,125,126,126,125,124,123,121,120,119,117,116,115,114,112,111,112,114,117,119,119,120,122,125,128,132,133,133,134,135,135,136,137,138,138,138,138,138,138,138,138,138,139,139,140,140,140,141,142,142,143,143,143,143,143,142,141,140,140,140,140,140,140,139,139,139,139,139,138,138,139,139,140,140,141,141,141,142,142,143,143,144,145,146,147,148,149,150,151,151,152,153,154,155,156,156,156,156,156,156,156,156,156,156,156,155,154,152,150,149,148,146,144,143,141,139,138,137,136,135,135,136,137,138,139,140,140,141,141,142,143,143,144,144,145,146,146,146,147,148,147,147,146,146,145,144,143,143,143,142,141,141,141,140,141,141,141,141,141,142,141,141,141,141,141,141,140,140,140,141,142,143,143,143,144,144,144,144,143,142,141,141,140,139,139,138,138,137,137,137,136,136,136,135,134,133,132,132,131,131,131,129,128,128,127,126,126,126,125,125,125,125,125,125,125,125,126,126,126,126,126,126,127,127,127,127,127,128,128,128,128,128,129,130,131,132,132,132,133,134,135,136,136,137,137,137,136,136,135,135,135,135,135,135,135,135,134,133,132,132,131,131,130,129,128,128,128,128,128,129,129,129,130,130,131,132,133,133,133,133,134,134,135,136,137,138,139,141,143,144,146,148,150,152,154,155,156,157,157,158,160,160,160,160,159,159,158,157,156,155,155,154,153,151,149,148,147,146,143,141,139,138,137,135,134,132,131,129,128,128,127,127,126,125,125,124,123,122,122,121,120,120,119,118,117,117,116,116,116,116,115,115,115,116,116,116,115,115,115,114,113,113,112,112,113,113,114,114,115,115,115,115,115,116,116,117,117,118,119,120,121,123,126,128,131,133,137,141,146,151,157,161,164,168,173,178,181,185,187,188,189,188,186,184,182,179,177,173,168,164,160,156,154,150,148,145,143,141,139,138,136,135,135,134,134,135,135,136,137,137,138,139,139,139,139,139,138,137,136,136,135,133,131,129,128,127,126,125,123,117,122,122,121,121,120,120,119,119,119,119,119,120,120,121,121,121,121,123,124,124,125,125,125,126,127,128,129,129,130,130,131,132,133,133,132,132,131,130,130,129,128\n"
     ]
    }
   ],
   "source": [
    "print(comma_delimited)"
   ]
  }
 ],
 "metadata": {
  "jupytext": {
   "formats": "ipynb,py:light"
  },
  "kernelspec": {
   "display_name": "Python 3 (ipykernel)",
   "language": "python",
   "name": "python3"
  },
  "language_info": {
   "codemirror_mode": {
    "name": "ipython",
    "version": 3
   },
   "file_extension": ".py",
   "mimetype": "text/x-python",
   "name": "python",
   "nbconvert_exporter": "python",
   "pygments_lexer": "ipython3",
   "version": "3.12.7"
  }
 },
 "nbformat": 4,
 "nbformat_minor": 5
}
