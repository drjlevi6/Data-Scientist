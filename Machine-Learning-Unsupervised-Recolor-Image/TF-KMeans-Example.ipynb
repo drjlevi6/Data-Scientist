{
 "cells": [
  {
   "cell_type": "code",
   "execution_count": 48,
   "id": "fe6c966d-335f-4beb-b802-0079211914cf",
   "metadata": {},
   "outputs": [
    {
     "name": "stdout",
     "output_type": "stream",
     "text": [
      "/Users/jonathan/Development/Git/Data-Scientist/Machine-Learning-Unsupervised-Recolor-Image\n"
     ]
    }
   ],
   "source": [
    "!pwd"
   ]
  },
  {
   "cell_type": "code",
   "execution_count": 36,
   "id": "32f3177d-f467-48b9-834c-d2c7818a4634",
   "metadata": {},
   "outputs": [],
   "source": [
    "#import tensorflow as tf\n",
    "import tensorflow.compat.v1 as tf\n",
    "#tf.compat.v1.disable_eager_execution()\n",
    "\n",
    "import numpy as np\n",
    "import time\n",
    "\n",
    "N=10000\n",
    "K=4\n",
    "MAX_ITERS = 1000\n",
    "\n",
    "start = time.time()\n",
    "\n",
    "points = tf.Variable(tf.random_uniform([N,2]))\n",
    "cluster_assignments = tf.Variable(tf.zeros([N], dtype=tf.int64))\n",
    "\n",
    "# Silly initialization:  Use the first two points as the starting                \n",
    "# centroids.  In the real world, do this better.                                 \n",
    "#centroids = tf.Variable(tf.slice(points.initialized_value(), [0,0], [K,2]))\n",
    "centroids = tf.Variable(tf.slice(points.read_value(), [0,0], [K,2]))\n",
    "\n",
    "# Replicate to N copies of each centroid and K copies of each                    \n",
    "# point, then subtract and compute the sum of squared distances.                 \n",
    "rep_centroids = tf.reshape(tf.tile(centroids, [N, 1]), [N, K, 2])\n",
    "rep_points = tf.reshape(tf.tile(points, [1, K]), [N, K, 2])\n",
    "sum_squares = tf.reduce_sum(tf.square(rep_points - rep_centroids),\n",
    "                            reduction_indices=2)\n",
    "\n",
    "# Use argmin to select the lowest-distance point                                 \n",
    "best_centroids = tf.argmin(sum_squares, 1)\n",
    "did_assignments_change = tf.reduce_any(tf.not_equal(best_centroids,\n",
    "                                                    cluster_assignments))\n",
    "\n",
    "def bucket_mean(data, bucket_ids, num_buckets):\n",
    "    total = tf.unsorted_segment_sum(data, bucket_ids, num_buckets)\n",
    "    count = tf.unsorted_segment_sum(tf.ones_like(data), bucket_ids, num_buckets)\n",
    "    return total / count\n",
    "\n",
    "means = bucket_mean(points, best_centroids, K)\n",
    "\n",
    "# Do not write to the assigned clusters variable until after                     \n",
    "# computing whether the assignments have changed - hence with_dependencies\n",
    "with tf.control_dependencies([did_assignments_change]):\n",
    "    do_updates = tf.group(\n",
    "        centroids.assign(means),\n",
    "        cluster_assignments.assign(best_centroids))"
   ]
  },
  {
   "cell_type": "code",
   "execution_count": 47,
   "id": "8538e557-2a9d-4df1-bdf3-f44a3d7d6552",
   "metadata": {},
   "outputs": [
    {
     "name": "stdout",
     "output_type": "stream",
     "text": [
      "[<tf.Variable 'Variable_23:0' shape=(4, 2) dtype=float32>, <tf.Variable 'Variable_22:0' shape=(10000,) dtype=int64>]\n",
      "Found in 731.94 seconds 10 iterations\n",
      "Centroids:\n",
      "<tf.Variable 'Variable_23:0' shape=(4, 2) dtype=float32>\n",
      "Cluster assignments: <tf.Variable 'Variable_22:0' shape=(10000,) dtype=int64>\n",
      "Session Result: [ 5.  4. 20.]\n"
     ]
    }
   ],
   "source": [
    "MAX_ITERS = 10\n",
    "with tf.Session() as sess:\n",
    "    tf.global_variables_initializer()\n",
    "    changed = True\n",
    "    iters = 0\n",
    "    \n",
    "    while changed and iters < MAX_ITERS:\n",
    "        iters += 1\n",
    "        [changed, _] = [did_assignments_change != None, do_updates]\n",
    "    \n",
    "    [centers, assignments] = [centroids, cluster_assignments]\n",
    "    print([centroids, cluster_assignments])\n",
    "    end = time.time()\n",
    "    print((\"Found in %.2f seconds\" % (end-start)), iters, \"iterations\")\n",
    "    print(\"Centroids:\")\n",
    "    print(centers)\n",
    "    \n",
    "    print(\"Cluster assignments:\", assignments)\n",
    "\n",
    "\n",
    "    # Define computational graph\n",
    "    X = tf.placeholder(tf.float32, name=\"X\")\n",
    "    Y = tf.placeholder(tf.float32, name=\"Y\")\n",
    "    \n",
    "    addition = tf.add(X, Y, name=\"addition\")\n",
    "    \n",
    "    # Create the session\n",
    "    \n",
    "    result = sess.run(addition, feed_dict={X: [1, 2, 10], Y: [4, 2, 10]})\n",
    "    \n",
    "    print(\"Session Result:\", result)\n"
   ]
  },
  {
   "cell_type": "code",
   "execution_count": null,
   "id": "90b6479b-476f-4d34-810e-beb7bb823295",
   "metadata": {},
   "outputs": [],
   "source": []
  }
 ],
 "metadata": {
  "kernelspec": {
   "display_name": "Python 3 (ipykernel)",
   "language": "python",
   "name": "python3"
  },
  "language_info": {
   "codemirror_mode": {
    "name": "ipython",
    "version": 3
   },
   "file_extension": ".py",
   "mimetype": "text/x-python",
   "name": "python",
   "nbconvert_exporter": "python",
   "pygments_lexer": "ipython3",
   "version": "3.12.4"
  }
 },
 "nbformat": 4,
 "nbformat_minor": 5
}
