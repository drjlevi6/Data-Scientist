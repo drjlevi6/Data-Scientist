{
 "cells": [
  {
   "cell_type": "markdown",
   "id": "e2339c1c-4a53-4bcc-9f44-0ef212b07a47",
   "metadata": {},
   "source": [
    "![](FBS-with-Trendlines.png)"
   ]
  },
  {
   "cell_type": "markdown",
   "id": "5c27ff0b-2110-43a0-9c10-410dce5f0a4e",
   "metadata": {},
   "source": [
    "## My attempt to fit a polynomial approximation didn't seem to work well:\n",
    "![](Polynomial-appoximations-to-FBS-data.png)"
   ]
  },
  {
   "cell_type": "markdown",
   "id": "df7902d7-5cfc-40bc-aa0c-76ab31669f94",
   "metadata": {},
   "source": [
    "### I will see whether the predictions can be improved using bagging regression."
   ]
  },
  {
   "cell_type": "code",
   "execution_count": 1,
   "id": "a69033f2-4364-4429-ae79-37b0a8640d9b",
   "metadata": {},
   "outputs": [],
   "source": [
    "import numpy as np\n",
    "import pandas as pd\n",
    "from pandas import DataFrame as DF, Series as Ser\n",
    "from matplotlib import pyplot as plt\n",
    "from sklearn.preprocessing import PolynomialFeatures\n",
    "from sklearn.linear_model import LinearRegression\n",
    "from sklearn.pipeline import Pipeline"
   ]
  },
  {
   "cell_type": "code",
   "execution_count": 2,
   "id": "7f041178-fa4a-41ce-b413-73a0f6b2e530",
   "metadata": {},
   "outputs": [
    {
     "name": "stdout",
     "output_type": "stream",
     "text": [
      "all-day-glucose.xlsx\n"
     ]
    },
    {
     "ename": "FileNotFoundError",
     "evalue": "[Errno 2] No such file or directory: 'all-day-glucose.xlsx'",
     "output_type": "error",
     "traceback": [
      "\u001b[0;31m---------------------------------------------------------------------------\u001b[0m",
      "\u001b[0;31mFileNotFoundError\u001b[0m                         Traceback (most recent call last)",
      "Cell \u001b[0;32mIn[2], line 3\u001b[0m\n\u001b[1;32m      1\u001b[0m path \u001b[38;5;241m=\u001b[39m \u001b[38;5;124m\"\u001b[39m\u001b[38;5;124mall-day-glucose.xlsx\u001b[39m\u001b[38;5;124m\"\u001b[39m\n\u001b[1;32m      2\u001b[0m \u001b[38;5;28mprint\u001b[39m(path)\n\u001b[0;32m----> 3\u001b[0m df0 \u001b[38;5;241m=\u001b[39m pd\u001b[38;5;241m.\u001b[39mread_excel(path)\u001b[38;5;241m.\u001b[39miloc[:, :\u001b[38;5;241m18\u001b[39m]\n\u001b[1;32m      4\u001b[0m columns \u001b[38;5;241m=\u001b[39m df0\u001b[38;5;241m.\u001b[39miloc[\u001b[38;5;241m0\u001b[39m, \u001b[38;5;241m0\u001b[39m:\u001b[38;5;241m18\u001b[39m]\n\u001b[1;32m      5\u001b[0m df0\u001b[38;5;241m.\u001b[39mcolumns \u001b[38;5;241m=\u001b[39m columns\n",
      "File \u001b[0;32m~/anaconda3/lib/python3.11/site-packages/pandas/io/excel/_base.py:504\u001b[0m, in \u001b[0;36mread_excel\u001b[0;34m(io, sheet_name, header, names, index_col, usecols, dtype, engine, converters, true_values, false_values, skiprows, nrows, na_values, keep_default_na, na_filter, verbose, parse_dates, date_parser, date_format, thousands, decimal, comment, skipfooter, storage_options, dtype_backend, engine_kwargs)\u001b[0m\n\u001b[1;32m    502\u001b[0m \u001b[38;5;28;01mif\u001b[39;00m \u001b[38;5;129;01mnot\u001b[39;00m \u001b[38;5;28misinstance\u001b[39m(io, ExcelFile):\n\u001b[1;32m    503\u001b[0m     should_close \u001b[38;5;241m=\u001b[39m \u001b[38;5;28;01mTrue\u001b[39;00m\n\u001b[0;32m--> 504\u001b[0m     io \u001b[38;5;241m=\u001b[39m ExcelFile(\n\u001b[1;32m    505\u001b[0m         io,\n\u001b[1;32m    506\u001b[0m         storage_options\u001b[38;5;241m=\u001b[39mstorage_options,\n\u001b[1;32m    507\u001b[0m         engine\u001b[38;5;241m=\u001b[39mengine,\n\u001b[1;32m    508\u001b[0m         engine_kwargs\u001b[38;5;241m=\u001b[39mengine_kwargs,\n\u001b[1;32m    509\u001b[0m     )\n\u001b[1;32m    510\u001b[0m \u001b[38;5;28;01melif\u001b[39;00m engine \u001b[38;5;129;01mand\u001b[39;00m engine \u001b[38;5;241m!=\u001b[39m io\u001b[38;5;241m.\u001b[39mengine:\n\u001b[1;32m    511\u001b[0m     \u001b[38;5;28;01mraise\u001b[39;00m \u001b[38;5;167;01mValueError\u001b[39;00m(\n\u001b[1;32m    512\u001b[0m         \u001b[38;5;124m\"\u001b[39m\u001b[38;5;124mEngine should not be specified when passing \u001b[39m\u001b[38;5;124m\"\u001b[39m\n\u001b[1;32m    513\u001b[0m         \u001b[38;5;124m\"\u001b[39m\u001b[38;5;124man ExcelFile - ExcelFile already has the engine set\u001b[39m\u001b[38;5;124m\"\u001b[39m\n\u001b[1;32m    514\u001b[0m     )\n",
      "File \u001b[0;32m~/anaconda3/lib/python3.11/site-packages/pandas/io/excel/_base.py:1563\u001b[0m, in \u001b[0;36mExcelFile.__init__\u001b[0;34m(self, path_or_buffer, engine, storage_options, engine_kwargs)\u001b[0m\n\u001b[1;32m   1561\u001b[0m     ext \u001b[38;5;241m=\u001b[39m \u001b[38;5;124m\"\u001b[39m\u001b[38;5;124mxls\u001b[39m\u001b[38;5;124m\"\u001b[39m\n\u001b[1;32m   1562\u001b[0m \u001b[38;5;28;01melse\u001b[39;00m:\n\u001b[0;32m-> 1563\u001b[0m     ext \u001b[38;5;241m=\u001b[39m inspect_excel_format(\n\u001b[1;32m   1564\u001b[0m         content_or_path\u001b[38;5;241m=\u001b[39mpath_or_buffer, storage_options\u001b[38;5;241m=\u001b[39mstorage_options\n\u001b[1;32m   1565\u001b[0m     )\n\u001b[1;32m   1566\u001b[0m     \u001b[38;5;28;01mif\u001b[39;00m ext \u001b[38;5;129;01mis\u001b[39;00m \u001b[38;5;28;01mNone\u001b[39;00m:\n\u001b[1;32m   1567\u001b[0m         \u001b[38;5;28;01mraise\u001b[39;00m \u001b[38;5;167;01mValueError\u001b[39;00m(\n\u001b[1;32m   1568\u001b[0m             \u001b[38;5;124m\"\u001b[39m\u001b[38;5;124mExcel file format cannot be determined, you must specify \u001b[39m\u001b[38;5;124m\"\u001b[39m\n\u001b[1;32m   1569\u001b[0m             \u001b[38;5;124m\"\u001b[39m\u001b[38;5;124man engine manually.\u001b[39m\u001b[38;5;124m\"\u001b[39m\n\u001b[1;32m   1570\u001b[0m         )\n",
      "File \u001b[0;32m~/anaconda3/lib/python3.11/site-packages/pandas/io/excel/_base.py:1419\u001b[0m, in \u001b[0;36minspect_excel_format\u001b[0;34m(content_or_path, storage_options)\u001b[0m\n\u001b[1;32m   1416\u001b[0m \u001b[38;5;28;01mif\u001b[39;00m \u001b[38;5;28misinstance\u001b[39m(content_or_path, \u001b[38;5;28mbytes\u001b[39m):\n\u001b[1;32m   1417\u001b[0m     content_or_path \u001b[38;5;241m=\u001b[39m BytesIO(content_or_path)\n\u001b[0;32m-> 1419\u001b[0m \u001b[38;5;28;01mwith\u001b[39;00m get_handle(\n\u001b[1;32m   1420\u001b[0m     content_or_path, \u001b[38;5;124m\"\u001b[39m\u001b[38;5;124mrb\u001b[39m\u001b[38;5;124m\"\u001b[39m, storage_options\u001b[38;5;241m=\u001b[39mstorage_options, is_text\u001b[38;5;241m=\u001b[39m\u001b[38;5;28;01mFalse\u001b[39;00m\n\u001b[1;32m   1421\u001b[0m ) \u001b[38;5;28;01mas\u001b[39;00m handle:\n\u001b[1;32m   1422\u001b[0m     stream \u001b[38;5;241m=\u001b[39m handle\u001b[38;5;241m.\u001b[39mhandle\n\u001b[1;32m   1423\u001b[0m     stream\u001b[38;5;241m.\u001b[39mseek(\u001b[38;5;241m0\u001b[39m)\n",
      "File \u001b[0;32m~/anaconda3/lib/python3.11/site-packages/pandas/io/common.py:872\u001b[0m, in \u001b[0;36mget_handle\u001b[0;34m(path_or_buf, mode, encoding, compression, memory_map, is_text, errors, storage_options)\u001b[0m\n\u001b[1;32m    863\u001b[0m         handle \u001b[38;5;241m=\u001b[39m \u001b[38;5;28mopen\u001b[39m(\n\u001b[1;32m    864\u001b[0m             handle,\n\u001b[1;32m    865\u001b[0m             ioargs\u001b[38;5;241m.\u001b[39mmode,\n\u001b[0;32m   (...)\u001b[0m\n\u001b[1;32m    868\u001b[0m             newline\u001b[38;5;241m=\u001b[39m\u001b[38;5;124m\"\u001b[39m\u001b[38;5;124m\"\u001b[39m,\n\u001b[1;32m    869\u001b[0m         )\n\u001b[1;32m    870\u001b[0m     \u001b[38;5;28;01melse\u001b[39;00m:\n\u001b[1;32m    871\u001b[0m         \u001b[38;5;66;03m# Binary mode\u001b[39;00m\n\u001b[0;32m--> 872\u001b[0m         handle \u001b[38;5;241m=\u001b[39m \u001b[38;5;28mopen\u001b[39m(handle, ioargs\u001b[38;5;241m.\u001b[39mmode)\n\u001b[1;32m    873\u001b[0m     handles\u001b[38;5;241m.\u001b[39mappend(handle)\n\u001b[1;32m    875\u001b[0m \u001b[38;5;66;03m# Convert BytesIO or file objects passed with an encoding\u001b[39;00m\n",
      "\u001b[0;31mFileNotFoundError\u001b[0m: [Errno 2] No such file or directory: 'all-day-glucose.xlsx'"
     ]
    }
   ],
   "source": [
    "path = \"all-day-glucose.xlsx\"\n",
    "print(path)\n",
    "df0 = pd.read_excel(path).iloc[:, :18]\n",
    "columns = df0.iloc[0, 0:18]\n",
    "df0.columns = columns\n",
    "pd.set_option('display.max_rows', 4)\n",
    "df0"
   ]
  },
  {
   "cell_type": "code",
   "execution_count": null,
   "id": "9c20866c-27af-4b6d-a4af-0791f3c23674",
   "metadata": {},
   "outputs": [],
   "source": [
    "# Extract the FBS feature; drop NaNs and add a numeric \"Day\" index:\n",
    "def check_FBS_values(df): \n",
    "    fbsvals = df[\"FBS\"].values\n",
    "    for i in range(len(df)):\n",
    "        if type(fbsvals[i]) != int or fbsvals[i] <= 0:\n",
    "            raise ValueError(\"Invalid FBS \\\"\" + str(fbsvals[i]) + \\\n",
    "                \"\\\" at row \" + str(i))\n",
    "df = df0.iloc[1:, 0:2].dropna() # get rid of headers and nans\n",
    "df.index = range(len(df))\n",
    "\n",
    "# Introduce a column showing das from day 0\n",
    "df = pd.concat([Ser(range(len(df))), df], axis=1)\n",
    "df.columns = [\"Day\", \"Date\", \"FBS\"]\n",
    "\n",
    "check_FBS_values(df)\n",
    "\n",
    "pd.set_option('display.max_rows', 4)\n",
    "df # last row should show most recent date and FBS"
   ]
  },
  {
   "cell_type": "code",
   "execution_count": null,
   "id": "e14af960-ef05-41e1-a6bf-d77e2b1a5804",
   "metadata": {},
   "outputs": [],
   "source": [
    "# make the data and target arrays:\n",
    "X = np.array(df[\"Day\"])\n",
    "y = np.array(df[\"FBS\"])"
   ]
  },
  {
   "cell_type": "code",
   "execution_count": null,
   "id": "c5c0ae72-691a-44a1-a3bb-0819f8c1f5ee",
   "metadata": {},
   "outputs": [],
   "source": [
    "import matplotlib.pyplot as plt\n",
    "import numpy as np\n",
    "from sklearn.metrics import mean_squared_error, r2_score, mean_absolute_error\n",
    "\n",
    "def sort_X_and_y(X_, y_):\n",
    "    i_sorted = np.argsort(X_)\n",
    "\n",
    "    X_sorted = np.sort(X_)\n",
    "    y_sorted = np.array([y_[i] for i in i_sorted])\n",
    "    return X_sorted, y_sorted\n"
   ]
  },
  {
   "cell_type": "code",
   "execution_count": null,
   "id": "e1e3037d-d006-4fbb-9658-fd8010d89655",
   "metadata": {},
   "outputs": [],
   "source": [
    "# Create training and test sets:\n",
    "from sklearn.model_selection import train_test_split\n",
    "X_train_unsrt, X_test_unsrt, y_train_unsrt, y_test_unsrt = train_test_split(\n",
    "    X, y, test_size=0.25, random_state=42) # identical to the polynomial version\n",
    "\n",
    "X_train, y_train = sort_X_and_y(X_train_unsrt, y_train_unsrt)\n",
    "X_test, y_test = sort_X_and_y(X_test_unsrt, y_test_unsrt)"
   ]
  },
  {
   "cell_type": "code",
   "execution_count": null,
   "id": "7fbcd2f1-bdbf-413f-afd9-f7ff3a5c255b",
   "metadata": {},
   "outputs": [],
   "source": [
    "# Create a simple (non-bagged) decision-tree regressor:\n",
    "from sklearn.tree import DecisionTreeRegressor\n",
    "\n",
    "tree = DecisionTreeRegressor(max_depth=3, random_state=0)\n",
    "\n",
    "# Train the linear model using the training sets\n",
    "tree.fit(X_train.reshape(-1, 1), y_train)\n",
    "\n",
    "# Make predictions for linear regression using the testing set\n",
    "y_pred = tree.predict(X_test.reshape(-1, 1))\n",
    "\n",
    "# Coefficients for mean squared error. linear regression:\n",
    "mse = [1, mean_squared_error(y_test, y_pred)]"
   ]
  },
  {
   "cell_type": "code",
   "execution_count": null,
   "id": "777faf98-54f4-4ac8-9f75-8a3ae512b6f9",
   "metadata": {},
   "outputs": [],
   "source": [
    "# Plot the regressor's predictions, with mean-squared error:\n",
    "import matplotlib.pyplot as plt\n",
    "import seaborn as sns\n",
    "\n",
    "sns.scatterplot(\n",
    "    x=X_train, y=y_train, color=\"black\", alpha=0.5\n",
    ")\n",
    "plt.plot(X_test, y_pred, label=\"Fitted tree\")\n",
    "plt.legend()\n",
    "_ = plt.title(f\"Predictions by a single decision tree (MSE={mse[1]:.4})\")"
   ]
  },
  {
   "cell_type": "markdown",
   "id": "023cec1e-38d3-4d96-84d4-454106526eee",
   "metadata": {},
   "source": [
    "# Bootstrap resampling \n",
    "## (\"random sampling with replacement\")\n",
    "We will create a function that given `data` and `target` will return a\n",
    "resampled variation `data_bootstrap` and `target_bootstrap`."
   ]
  },
  {
   "cell_type": "code",
   "execution_count": null,
   "id": "24aefd8c-7f3b-40cd-b65d-19f1995e5ecb",
   "metadata": {},
   "outputs": [],
   "source": [
    "def bootstrap_sample(data, target):\n",
    "    # Indices corresponding to a sampling with replacement of the same sample\n",
    "    # size than the original data\n",
    "    bootstrap_indices = rng.choice(\n",
    "        np.arange(target.shape[0]),\n",
    "        size=target.shape[0],\n",
    "        replace=True,\n",
    "    )\n",
    "    # In pandas, we need to use `.iloc` to extract rows using an integer\n",
    "    # position index:\n",
    "    data_bootstrap = data.iloc[bootstrap_indices]\n",
    "    target_bootstrap = target.iloc[bootstrap_indices]\n",
    "    return data_bootstrap, target_bootstrap"
   ]
  },
  {
   "cell_type": "code",
   "execution_count": null,
   "id": "81ff6f55-2d82-4657-a170-c552e5310ee2",
   "metadata": {},
   "outputs": [],
   "source": [
    "# create a random number generator that will be used to set the randomness\n",
    "rng = np.random.RandomState(1)\n",
    "\n",
    "data_train, target_train = DF(X_train), DF(y_train)\n",
    "data_test, target_test = DF(X_test), DF(y_test)\n",
    "\n",
    "# Create some bootstraps\n",
    "n_bootstraps = 3\n",
    "bootstraps_all = []\n",
    "for bootstrap_idx in range(n_bootstraps):\n",
    "    # draw a bootstrap from the original data\n",
    "    data_bootstrap, target_bootstrap = bootstrap_sample(\n",
    "        data_train,\n",
    "        target_train,\n",
    "    )\n",
    "    bootstraps_all.append([data_bootstrap, target_bootstrap])\n",
    "\n",
    "# Compare all data points with those of the bootstraps, on a single plot.\n",
    "# Different bootstraps are seen to select different sets of points.\n",
    "scatter_colors = [\"darkblue\", \"tab:green\", \"salmon\"]\n",
    "markers = [\"x\", \"o\", \"s\"]\n",
    "\n",
    "plt.scatter(\n",
    "    data_train, target_train, color=\"black\",\n",
    "    s=60, alpha=1, label=\"Original data\"\n",
    ")\n",
    "for i in range(len(bootstraps_all)):\n",
    "    plt.scatter(bootstraps_all[i][0], bootstraps_all[i][1],\n",
    "        color=scatter_colors[i],\n",
    "        marker=markers[i], s=240,\n",
    "        alpha=0.35, label=f\"Tree #{i}\"\n",
    "    )\n",
    "plt.title(\"Bootstrapped Data From Multiple Trees\")\n",
    "plt.legend(loc=\"upper left\")\n",
    "plt.show()"
   ]
  },
  {
   "cell_type": "markdown",
   "id": "e97ee052-b7e5-429d-9b9b-8ee3508e8898",
   "metadata": {},
   "source": [
    "\"Using bootstrap we are able to generate many datasets, all slightly different.\n",
    "We can fit a decision tree for each of these datasets and they all shall be\n",
    "slightly different as well.\""
   ]
  },
  {
   "cell_type": "code",
   "execution_count": null,
   "id": "e1bb85f3-8fbe-4f52-9091-a5932e6c9340",
   "metadata": {},
   "outputs": [],
   "source": [
    "bag_of_trees = []\n",
    "for bootstrap_idx in range(n_bootstraps):\n",
    "    tree = DecisionTreeRegressor(max_depth=3, random_state=0)\n",
    "\n",
    "    data_bootstrap_sample, target_bootstrap_sample = bootstrap_sample(\n",
    "        data_train, target_train\n",
    "    )\n",
    "    tree.fit(data_bootstrap_sample, target_bootstrap_sample)\n",
    "    bag_of_trees.append(tree)"
   ]
  },
  {
   "cell_type": "markdown",
   "id": "db5fae1b-bca0-4858-852f-aa5cecf2c003",
   "metadata": {},
   "source": [
    "Now that we've created a bag of different trees, we can use each of the trees to\n",
    "predict the samples within the range of data. Their predictions differ slightly."
   ]
  },
  {
   "cell_type": "code",
   "execution_count": null,
   "id": "6e6eeaaf-3fa0-4e48-b02f-d9b9f36514f7",
   "metadata": {},
   "outputs": [],
   "source": [
    "sns.scatterplot(\n",
    "    x=data_train[0], y=target_train[0], color=\"black\", alpha=0.5\n",
    ")\n",
    "for tree_idx, tree in enumerate(bag_of_trees):\n",
    "    tree_predictions = tree.predict(data_test)\n",
    "    plt.plot(\n",
    "        data_test,\n",
    "        tree_predictions,\n",
    "        linestyle=\"--\",\n",
    "        alpha=0.8,\n",
    "        label=f\"Tree #{tree_idx} predictions\",\n",
    "    )\n",
    "\n",
    "plt.legend()\n",
    "_ = plt.title(\"Predictions of trees trained on different bootstraps\")"
   ]
  },
  {
   "cell_type": "code",
   "execution_count": null,
   "id": "9a53c017-4657-44df-a886-430b3ae88729",
   "metadata": {},
   "outputs": [],
   "source": [
    "# Bagging in scikit-learn\n",
    "from sklearn.ensemble import BaggingRegressor\n",
    "\n",
    "bagged_trees = BaggingRegressor(\n",
    "    estimator=DecisionTreeRegressor(max_depth=3),\n",
    "    n_estimators=100,\n",
    ")\n",
    "bagged_trees.fit(X_train.reshape(-1, 1), y_train)\n",
    "\n",
    "sns.scatterplot(\n",
    "    x=data_train[0], y=target_train[0], color=\"black\", alpha=0.5\n",
    ")\n",
    "\n",
    "bagged_trees_predictions = bagged_trees.predict(data_test)\n",
    "plt.plot(data_test, bagged_trees_predictions)\n",
    "plt.xlabel('Feature Value')\n",
    "plt.ylabel('Target Value')\n",
    "\n",
    "_ = plt.title(\"Predictions from a Bagging Regressor\")"
   ]
  },
  {
   "cell_type": "markdown",
   "id": "4e1d90ff-3346-41ce-8cbf-07d481d95065",
   "metadata": {},
   "source": [
    "Using the `bagged_trees.estimators_`attribute to access each estimator, we compare the based model predictions with their average."
   ]
  },
  {
   "cell_type": "code",
   "execution_count": null,
   "id": "de9e5589-36d5-43b2-90ba-6e4fa83015ff",
   "metadata": {},
   "outputs": [],
   "source": [
    "for tree_idx, tree in enumerate(bagged_trees.estimators_):\n",
    "    label = \"Predictions of individual trees\" if tree_idx == 0 else None\n",
    "    # we convert `data_test` into a NumPy array to avoid a warning raised in scikit-learn\n",
    "    tree_predictions = tree.predict(data_test.to_numpy())\n",
    "    plt.plot(\n",
    "        data_test,\n",
    "        tree_predictions,\n",
    "        linestyle=\"--\",\n",
    "        alpha=0.1,\n",
    "        color=\"tab:blue\",\n",
    "        label=label,\n",
    "    )\n",
    "\n",
    "sns.scatterplot(\n",
    "    x=data_train[0], y=target_train[0], color=\"black\", alpha=0.5\n",
    ")\n",
    "\n",
    "bagged_trees_predictions = bagged_trees.predict(data_test)\n",
    "mse = [1, mean_squared_error(target_test, bagged_trees_predictions)]\n",
    "plt.plot(\n",
    "    data_test,\n",
    "    bagged_trees_predictions,\n",
    "    color=\"tab:orange\",\n",
    "    label=\"Predictions of ensemble\",\n",
    ")\n",
    "plt.xlabel('Feature Value')\n",
    "plt.ylabel('Target Value')\n",
    "plt.legend()\n",
    "_ = plt.title(\"Individual vs. Averaged Predictions\\n\" + \\\n",
    "              f\"From a Bagging Regressor (MSE={mse[1]:6.3})\")"
   ]
  },
  {
   "cell_type": "code",
   "execution_count": null,
   "id": "cfb0544f-3f9a-4d7e-abf9-82b272bb5431",
   "metadata": {},
   "outputs": [],
   "source": []
  }
 ],
 "metadata": {
  "kernelspec": {
   "display_name": "Python 3 (ipykernel)",
   "language": "python",
   "name": "python3"
  },
  "language_info": {
   "codemirror_mode": {
    "name": "ipython",
    "version": 3
   },
   "file_extension": ".py",
   "mimetype": "text/x-python",
   "name": "python",
   "nbconvert_exporter": "python",
   "pygments_lexer": "ipython3",
   "version": "3.11.5"
  }
 },
 "nbformat": 4,
 "nbformat_minor": 5
}
